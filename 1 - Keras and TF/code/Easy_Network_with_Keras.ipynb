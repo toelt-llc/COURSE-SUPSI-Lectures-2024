{
 "cells": [
  {
   "cell_type": "markdown",
   "metadata": {
    "colab_type": "text",
    "id": "view-in-github"
   },
   "source": [
    "<a href=\"https://colab.research.google.com/github/michelucci/oreilly-london-ai/blob/master/day1/Easy_Network_with_Keras.ipynb\" target=\"_parent\"><img src=\"https://colab.research.google.com/assets/colab-badge.svg\" alt=\"Open In Colab\"/></a>"
   ]
  },
  {
   "attachments": {},
   "cell_type": "markdown",
   "metadata": {
    "colab_type": "text",
    "id": "bI7fJvSjRtxj"
   },
   "source": [
    "# First Fully connected network with Keras\n",
    "\n",
    "Course: Vertical Domain Application in Key Areas\n",
    "\n",
    "Author: Umberto Michelucci (umberto.michelucci@toelt.ai)"
   ]
  },
  {
   "cell_type": "code",
   "execution_count": 1,
   "metadata": {
    "colab": {},
    "colab_type": "code",
    "id": "3fsN6lSZRX0E"
   },
   "outputs": [],
   "source": [
    "import tensorflow as tf\n",
    "import tensorflow.keras as keras\n",
    "import numpy as np\n",
    "\n",
    "import matplotlib.pyplot as plt"
   ]
  },
  {
   "cell_type": "code",
   "execution_count": 2,
   "metadata": {},
   "outputs": [
    {
     "name": "stdout",
     "output_type": "stream",
     "text": [
      "2.9.0\n"
     ]
    }
   ],
   "source": [
    "print(tf.__version__)"
   ]
  },
  {
   "cell_type": "code",
   "execution_count": 41,
   "metadata": {
    "colab": {
     "base_uri": "https://localhost:8080/",
     "height": 51
    },
    "colab_type": "code",
    "id": "9FbGVywHRdrd",
    "outputId": "6df39283-8864-4b56-b803-3e93be22b9e4"
   },
   "outputs": [],
   "source": [
    "mnist = tf.keras.datasets.mnist\n",
    "\n",
    "(x_train, y_train), (x_test, y_test) = mnist.load_data()\n",
    "x_train, x_test = x_train / 2550.0, x_test / 2550.0"
   ]
  },
  {
   "cell_type": "code",
   "execution_count": 42,
   "metadata": {},
   "outputs": [
    {
     "data": {
      "text/plain": [
       "0.1"
      ]
     },
     "execution_count": 42,
     "metadata": {},
     "output_type": "execute_result"
    }
   ],
   "source": [
    "np.max(x_train)"
   ]
  },
  {
   "cell_type": "code",
   "execution_count": 43,
   "metadata": {},
   "outputs": [
    {
     "name": "stdout",
     "output_type": "stream",
     "text": [
      "(60000, 28, 28)\n",
      "(10000, 28, 28)\n"
     ]
    }
   ],
   "source": [
    "print(x_train.shape)\n",
    "print(x_test.shape)"
   ]
  },
  {
   "cell_type": "code",
   "execution_count": 44,
   "metadata": {
    "colab": {
     "base_uri": "https://localhost:8080/",
     "height": 347
    },
    "colab_type": "code",
    "id": "qHxtmoJoSB7H",
    "outputId": "19975bfd-26a4-4a56-ac3c-416c333e5460"
   },
   "outputs": [
    {
     "data": {
      "text/plain": [
       "Text(0.5, 1.0, 'Label is 9')"
      ]
     },
     "execution_count": 44,
     "metadata": {},
     "output_type": "execute_result"
    },
    {
     "data": {
      "image/png": "[encoded data removed]",
      "text/plain": [
       "<Figure size 1600x500 with 3 Axes>"
      ]
     },
     "metadata": {},
     "output_type": "display_data"
    }
   ],
   "source": [
    "fig = plt.figure(figsize = (16,5))\n",
    "fig.add_subplot(1,3,1)\n",
    "plt.imshow(x_train[0], cmap = 'gray')\n",
    "plt.title(\"Label is \"+ str(y_train[0]), fontsize = 18)\n",
    "fig.add_subplot(1,3,2)\n",
    "plt.imshow(x_train[2], cmap = 'gray')\n",
    "plt.title(\"Label is \"+ str(y_train[2]), fontsize = 18)\n",
    "fig.add_subplot(1,3,3)\n",
    "plt.imshow(x_train[4], cmap = 'gray')\n",
    "plt.title(\"Label is \"+ str(y_train[4]), fontsize = 18)"
   ]
  },
  {
   "attachments": {},
   "cell_type": "markdown",
   "metadata": {},
   "source": [
    "## Sequential model"
   ]
  },
  {
   "cell_type": "code",
   "execution_count": 45,
   "metadata": {
    "colab": {
     "base_uri": "https://localhost:8080/",
     "height": 88
    },
    "colab_type": "code",
    "id": "kWncHhCNRl9n",
    "outputId": "eb70f1f6-4030-42b1-ccdd-3a458c90ac46"
   },
   "outputs": [],
   "source": [
    "model = tf.keras.models.Sequential([\n",
    "  tf.keras.layers.Flatten(input_shape=(28, 28)),\n",
    "  tf.keras.layers.Dense(128, activation='relu'),\n",
    "  tf.keras.layers.Dense(64, activation='relu'),\n",
    "  #tf.keras.layers.Dropout(0.2),\n",
    "  tf.keras.layers.Dense(10, activation='softmax')\n",
    "])\n",
    "\n",
    "model.compile(optimizer='adam',\n",
    "              loss='sparse_categorical_crossentropy',\n",
    "              metrics=['accuracy'])"
   ]
  },
  {
   "cell_type": "code",
   "execution_count": 46,
   "metadata": {
    "colab": {
     "base_uri": "https://localhost:8080/",
     "height": 238
    },
    "colab_type": "code",
    "id": "z1eRv_p9RnaM",
    "outputId": "1e87c27f-5927-4b00-f819-d32cc859ac2b"
   },
   "outputs": [
    {
     "name": "stdout",
     "output_type": "stream",
     "text": [
      "Epoch 1/5\n",
      "   1/1875 [..............................] - ETA: 8:38 - loss: 2.2956 - accuracy: 0.0938"
     ]
    },
    {
     "name": "stderr",
     "output_type": "stream",
     "text": [
      "2024-04-09 15:44:28.065578: I tensorflow/core/grappler/optimizers/custom_graph_optimizer_registry.cc:113] Plugin optimizer for device_type GPU is enabled.\n"
     ]
    },
    {
     "name": "stdout",
     "output_type": "stream",
     "text": [
      " 409/1875 [=====>........................] - ETA: 10s - loss: 0.7348 - accuracy: 0.8024"
     ]
    }
   ],
   "source": [
    "history = model.fit(x_train, y_train, epochs=5, validation_data=(x_test, y_test))\n",
    "#model.evaluate(x_test,  y_test, verbose=2)"
   ]
  },
  {
   "cell_type": "code",
   "execution_count": 53,
   "metadata": {},
   "outputs": [
    {
     "name": "stdout",
     "output_type": "stream",
     "text": [
      "{'loss': [0.28784409165382385, 0.13591550290584564, 0.10022930800914764, 0.08049540966749191, 0.06557997316122055, 0.057873960584402084, 0.05117463693022728, 0.04559775069355965, 0.03986402601003647, 0.037178151309490204, 0.03312750160694122, 0.03129876032471657, 0.028193281963467598, 0.02848834916949272, 0.025577997788786888], 'accuracy': [0.9164167046546936, 0.9598000049591064, 0.9690499901771545, 0.9751999974250793, 0.9789666533470154, 0.9819166660308838, 0.9833333492279053, 0.9852333664894104, 0.9868833422660828, 0.987500011920929, 0.989050030708313, 0.9890666604042053, 0.9903666973114014, 0.9904167056083679, 0.991433322429657], 'val_loss': [0.14903928339481354, 0.09802698343992233, 0.0839322879910469, 0.07225718349218369, 0.08096680790185928, 0.07083429396152496, 0.06937612593173981, 0.07747377455234528, 0.0732676088809967, 0.07648681104183197, 0.07492052018642426, 0.0710080936551094, 0.07773255556821823, 0.07761194556951523, 0.07571785897016525], 'val_accuracy': [0.9562000632286072, 0.9707000255584717, 0.9738000631332397, 0.9790000319480896, 0.9748000502586365, 0.9805000424385071, 0.9783000349998474, 0.9774000644683838, 0.9782000184059143, 0.9776000380516052, 0.9790000319480896, 0.9800000190734863, 0.9788000583648682, 0.9794000387191772, 0.9788000583648682]}\n"
     ]
    }
   ],
   "source": [
    "print(history.history)\n",
    "\n",
    "# TENSORBOARD"
   ]
  },
  {
   "attachments": {},
   "cell_type": "markdown",
   "metadata": {},
   "source": [
    "Let's check how the network is learning by plotting the loss function for the training and test datasets. This is a handy way to check if there is any overfitting or if the network is not learning properly."
   ]
  },
  {
   "attachments": {},
   "cell_type": "markdown",
   "metadata": {},
   "source": [
    "### Learning Assessment"
   ]
  },
  {
   "cell_type": "code",
   "execution_count": 26,
   "metadata": {},
   "outputs": [
    {
     "data": {
      "image/png": "[encoded data removed]",
      "text/plain": [
       "<Figure size 640x480 with 1 Axes>"
      ]
     },
     "metadata": {},
     "output_type": "display_data"
    }
   ],
   "source": [
    "plt.plot(history.history['accuracy'], label = 'Training Accuracy')\n",
    "plt.plot(history.history['val_accuracy'], label = 'Test Accuracy')\n",
    "plt.legend()\n",
    "plt.show()"
   ]
  },
  {
   "cell_type": "code",
   "execution_count": 56,
   "metadata": {},
   "outputs": [
    {
     "data": {
      "image/png": "[encoded data removed]",
      "text/plain": [
       "<Figure size 640x480 with 1 Axes>"
      ]
     },
     "metadata": {},
     "output_type": "display_data"
    }
   ],
   "source": [
    "plt.plot(history.history['accuracy'], label = 'Training Accuracy')\n",
    "plt.plot(history.history['val_accuracy'], label = 'Test Accuracy')\n",
    "plt.ylim(None, 1)\n",
    "plt.legend()\n",
    "plt.show()"
   ]
  },
  {
   "attachments": {},
   "cell_type": "markdown",
   "metadata": {},
   "source": [
    "### Prediction check"
   ]
  },
  {
   "cell_type": "code",
   "execution_count": 19,
   "metadata": {
    "colab": {
     "base_uri": "https://localhost:8080/",
     "height": 68
    },
    "colab_type": "code",
    "id": "xq2MgSEIRpWb",
    "outputId": "9b4e3bf1-50f1-45cf-dd4b-2337ea5c0949"
   },
   "outputs": [
    {
     "name": "stderr",
     "output_type": "stream",
     "text": [
      "2024-04-09 15:38:11.963681: I tensorflow/core/grappler/optimizers/custom_graph_optimizer_registry.cc:113] Plugin optimizer for device_type GPU is enabled.\n"
     ]
    },
    {
     "name": "stdout",
     "output_type": "stream",
     "text": [
      "1/1 [==============================] - 1s 726ms/step\n"
     ]
    },
    {
     "data": {
      "text/plain": [
       "array([1.9134337e-21, 1.7304207e-18, 2.7299031e-19, 4.2312422e-06,\n",
       "       4.3177912e-25, 9.9999583e-01, 2.4670946e-23, 1.2891195e-22,\n",
       "       1.4623119e-17, 1.1525222e-10], dtype=float32)"
      ]
     },
     "execution_count": 19,
     "metadata": {},
     "output_type": "execute_result"
    }
   ],
   "source": [
    "model.predict(x_train[0][np.newaxis,:])[0]"
   ]
  },
  {
   "cell_type": "code",
   "execution_count": 8,
   "metadata": {
    "colab": {
     "base_uri": "https://localhost:8080/",
     "height": 285
    },
    "colab_type": "code",
    "id": "EKtR1Mw-TQqD",
    "outputId": "12fab4a5-b09c-43db-b406-b242ec55c744"
   },
   "outputs": [
    {
     "name": "stdout",
     "output_type": "stream",
     "text": [
      "1/1 [==============================] - 0s 11ms/step\n"
     ]
    },
    {
     "data": {
      "image/png": "[encoded data removed]",
      "text/plain": [
       "<Figure size 640x480 with 1 Axes>"
      ]
     },
     "metadata": {},
     "output_type": "display_data"
    }
   ],
   "source": [
    "plt.bar(np.arange(0,10,1), model.predict(x_train[0][np.newaxis,:])[0])\n",
    "plt.title (\"Probability for each integer\", fontsize = 18)\n",
    "plt.show()"
   ]
  },
  {
   "cell_type": "code",
   "execution_count": 9,
   "metadata": {
    "colab": {},
    "colab_type": "code",
    "id": "AYCkE1ccUKx5"
   },
   "outputs": [
    {
     "name": "stdout",
     "output_type": "stream",
     "text": [
      "5\n"
     ]
    }
   ],
   "source": [
    "print(y_train[0])"
   ]
  },
  {
   "attachments": {},
   "cell_type": "markdown",
   "metadata": {},
   "source": [
    "## Functional APIs\n",
    "\n",
    "Networks can be built with the Sequential approach by using the ```Sequential()``` constructor, or by using functional API, as shown below. The functional API will give much more flexibility to build more flexible network architectures."
   ]
  },
  {
   "cell_type": "code",
   "execution_count": 28,
   "metadata": {},
   "outputs": [],
   "source": [
    "input = tf.keras.layers.Input(shape = (28,28), name = 'Input_Layer')\n",
    "layer = tf.keras.layers.Flatten()(input)\n",
    "layer = tf.keras.layers.Dense(128, activation='relu')(layer)\n",
    "layer = tf.keras.layers.Dropout(0.2)(layer)\n",
    "layer = tf.keras.layers.Dense(10, activation='softmax')(layer)\n",
    "\n",
    "model = tf.keras.models.Model(inputs=input, outputs=layer)\n",
    "\n",
    "model.compile(optimizer='adam',\n",
    "              loss='sparse_categorical_crossentropy',\n",
    "              metrics=['accuracy'])"
   ]
  },
  {
   "cell_type": "code",
   "execution_count": 29,
   "metadata": {},
   "outputs": [
    {
     "name": "stdout",
     "output_type": "stream",
     "text": [
      "Model: \"model_2\"\n",
      "_________________________________________________________________\n",
      " Layer (type)                Output Shape              Param #   \n",
      "=================================================================\n",
      " Input_Layer (InputLayer)    [(None, 28, 28)]          0         \n",
      "                                                                 \n",
      " flatten_7 (Flatten)         (None, 784)               0         \n",
      "                                                                 \n",
      " dense_13 (Dense)            (None, 128)               100480    \n",
      "                                                                 \n",
      " dropout_6 (Dropout)         (None, 128)               0         \n",
      "                                                                 \n",
      " dense_14 (Dense)            (None, 10)                1290      \n",
      "                                                                 \n",
      "=================================================================\n",
      "Total params: 101,770\n",
      "Trainable params: 101,770\n",
      "Non-trainable params: 0\n",
      "_________________________________________________________________\n"
     ]
    }
   ],
   "source": [
    "model.summary()"
   ]
  },
  {
   "cell_type": "code",
   "execution_count": 30,
   "metadata": {},
   "outputs": [
    {
     "name": "stdout",
     "output_type": "stream",
     "text": [
      "Epoch 1/5\n",
      "   9/1875 [..............................] - ETA: 11s - loss: 2.0955 - accuracy: 0.2812 "
     ]
    },
    {
     "name": "stderr",
     "output_type": "stream",
     "text": [
      "2023-03-07 10:07:27.785456: I tensorflow/core/grappler/optimizers/custom_graph_optimizer_registry.cc:113] Plugin optimizer for device_type GPU is enabled.\n"
     ]
    },
    {
     "name": "stdout",
     "output_type": "stream",
     "text": [
      "1869/1875 [============================>.] - ETA: 0s - loss: 0.2888 - accuracy: 0.9153"
     ]
    },
    {
     "name": "stderr",
     "output_type": "stream",
     "text": [
      "2023-03-07 10:07:38.574503: I tensorflow/core/grappler/optimizers/custom_graph_optimizer_registry.cc:113] Plugin optimizer for device_type GPU is enabled.\n"
     ]
    },
    {
     "name": "stdout",
     "output_type": "stream",
     "text": [
      "1875/1875 [==============================] - 12s 6ms/step - loss: 0.2884 - accuracy: 0.9154 - val_loss: 0.1377 - val_accuracy: 0.9570\n",
      "Epoch 2/5\n",
      "1875/1875 [==============================] - 12s 6ms/step - loss: 0.1366 - accuracy: 0.9591 - val_loss: 0.1005 - val_accuracy: 0.9698\n",
      "Epoch 3/5\n",
      "1875/1875 [==============================] - 12s 6ms/step - loss: 0.1019 - accuracy: 0.9686 - val_loss: 0.0901 - val_accuracy: 0.9726\n",
      "Epoch 4/5\n",
      "1875/1875 [==============================] - 11s 6ms/step - loss: 0.0820 - accuracy: 0.9753 - val_loss: 0.0987 - val_accuracy: 0.9693\n",
      "Epoch 5/5\n",
      "1875/1875 [==============================] - 14s 7ms/step - loss: 0.0675 - accuracy: 0.9788 - val_loss: 0.0735 - val_accuracy: 0.9794\n",
      "313/313 - 1s - loss: 0.0735 - accuracy: 0.9794 - 1s/epoch - 4ms/step\n"
     ]
    },
    {
     "data": {
      "text/plain": [
       "[0.07350482791662216, 0.9794000387191772]"
      ]
     },
     "execution_count": 30,
     "metadata": {},
     "output_type": "execute_result"
    }
   ],
   "source": [
    "history = model.fit(x_train, y_train, epochs=5, validation_data=(x_test, y_test))\n",
    "model.evaluate(x_test,  y_test, verbose=2)"
   ]
  },
  {
   "cell_type": "code",
   "execution_count": 31,
   "metadata": {},
   "outputs": [
    {
     "name": "stdout",
     "output_type": "stream",
     "text": [
      "1/1 [==============================] - 0s 31ms/step\n"
     ]
    },
    {
     "name": "stderr",
     "output_type": "stream",
     "text": [
      "2023-03-07 10:08:30.379115: I tensorflow/core/grappler/optimizers/custom_graph_optimizer_registry.cc:113] Plugin optimizer for device_type GPU is enabled.\n"
     ]
    },
    {
     "data": {
      "text/plain": [
       "array([2.7174818e-10, 5.5711666e-07, 5.8689801e-07, 1.5039598e-02,\n",
       "       2.2887707e-15, 9.8495895e-01, 6.7118565e-13, 1.5050239e-07,\n",
       "       5.4449817e-10, 9.3143164e-08], dtype=float32)"
      ]
     },
     "execution_count": 31,
     "metadata": {},
     "output_type": "execute_result"
    }
   ],
   "source": [
    "model.predict(x_train[0][np.newaxis,:])[0]"
   ]
  },
  {
   "cell_type": "code",
   "execution_count": 32,
   "metadata": {},
   "outputs": [
    {
     "name": "stdout",
     "output_type": "stream",
     "text": [
      "1/1 [==============================] - 0s 18ms/step\n"
     ]
    },
    {
     "data": {
      "image/png": "[encoded data removed]",
      "text/plain": [
       "<Figure size 640x480 with 1 Axes>"
      ]
     },
     "metadata": {},
     "output_type": "display_data"
    }
   ],
   "source": [
    "plt.bar(np.arange(0,10,1), model.predict(x_train[0][np.newaxis,:])[0])\n",
    "plt.title (\"Proabibility for each integer\", fontsize = 18)\n",
    "plt.show()"
   ]
  },
  {
   "cell_type": "code",
   "execution_count": 33,
   "metadata": {},
   "outputs": [
    {
     "name": "stdout",
     "output_type": "stream",
     "text": [
      "5\n"
     ]
    }
   ],
   "source": [
    "print(y_train[0])"
   ]
  },
  {
   "attachments": {},
   "cell_type": "markdown",
   "metadata": {},
   "source": [
    "## Custom Training Loop"
   ]
  },
  {
   "cell_type": "code",
   "execution_count": 34,
   "metadata": {},
   "outputs": [],
   "source": [
    "input = tf.keras.layers.Input(shape = (28,28), name = 'Input_Layer')\n",
    "layer = tf.keras.layers.Flatten()(input)\n",
    "layer = tf.keras.layers.Dense(128, activation='relu')(layer)\n",
    "layer = tf.keras.layers.Dropout(0.2)(layer)\n",
    "layer = tf.keras.layers.Dense(10, activation='softmax')(layer)\n",
    "\n",
    "model = tf.keras.models.Model(inputs=input, outputs=layer)\n",
    "\n",
    "model.compile(optimizer='adam',\n",
    "              loss='sparse_categorical_crossentropy',\n",
    "              metrics=['accuracy'])"
   ]
  },
  {
   "cell_type": "code",
   "execution_count": 41,
   "metadata": {},
   "outputs": [],
   "source": [
    "batch_size = 32\n",
    "\n",
    "optimizer = keras.optimizers.SGD(learning_rate=1e-3)\n",
    "loss_fn = keras.losses.SparseCategoricalCrossentropy(from_logits=True)\n",
    "\n",
    "# Prepare the training dataset.\n",
    "train_dataset = tf.data.Dataset.from_tensor_slices((x_train, y_train))\n",
    "train_dataset = train_dataset.shuffle(buffer_size=1024).batch(batch_size)\n",
    "\n",
    "# Prepare the validation dataset.\n",
    "val_dataset = tf.data.Dataset.from_tensor_slices((x_test, y_test))\n",
    "val_dataset = val_dataset.batch(batch_size)"
   ]
  },
  {
   "cell_type": "code",
   "execution_count": 42,
   "metadata": {},
   "outputs": [
    {
     "name": "stdout",
     "output_type": "stream",
     "text": [
      "\n",
      "Start of epoch 0\n",
      "Training loss (for one batch) at step 0: 1.1993\n",
      "Seen so far: 32 samples\n",
      "Training loss (for one batch) at step 200: 1.5797\n",
      "Seen so far: 6432 samples\n",
      "Training loss (for one batch) at step 400: 1.0567\n",
      "Seen so far: 12832 samples\n",
      "Training loss (for one batch) at step 600: 1.0851\n",
      "Seen so far: 19232 samples\n",
      "Training loss (for one batch) at step 800: 1.1792\n",
      "Seen so far: 25632 samples\n",
      "Training loss (for one batch) at step 1000: 1.3440\n",
      "Seen so far: 32032 samples\n",
      "Training loss (for one batch) at step 1200: 1.0464\n",
      "Seen so far: 38432 samples\n",
      "Training loss (for one batch) at step 1400: 1.1176\n",
      "Seen so far: 44832 samples\n",
      "Training loss (for one batch) at step 1600: 0.7588\n",
      "Seen so far: 51232 samples\n",
      "Training loss (for one batch) at step 1800: 0.8494\n",
      "Seen so far: 57632 samples\n",
      "\n",
      "Start of epoch 1\n",
      "Training loss (for one batch) at step 0: 0.9525\n",
      "Seen so far: 32 samples\n",
      "Training loss (for one batch) at step 200: 0.8687\n",
      "Seen so far: 6432 samples\n",
      "Training loss (for one batch) at step 400: 0.8167\n",
      "Seen so far: 12832 samples\n",
      "Training loss (for one batch) at step 600: 0.6336\n",
      "Seen so far: 19232 samples\n",
      "Training loss (for one batch) at step 800: 0.7607\n",
      "Seen so far: 25632 samples\n",
      "Training loss (for one batch) at step 1000: 1.1023\n",
      "Seen so far: 32032 samples\n",
      "Training loss (for one batch) at step 1200: 0.5086\n",
      "Seen so far: 38432 samples\n",
      "Training loss (for one batch) at step 1400: 0.9319\n",
      "Seen so far: 44832 samples\n",
      "Training loss (for one batch) at step 1600: 0.7962\n",
      "Seen so far: 51232 samples\n",
      "Training loss (for one batch) at step 1800: 0.6975\n",
      "Seen so far: 57632 samples\n",
      "\n",
      "Start of epoch 2\n",
      "Training loss (for one batch) at step 0: 0.7963\n",
      "Seen so far: 32 samples\n",
      "Training loss (for one batch) at step 200: 0.6878\n",
      "Seen so far: 6432 samples\n",
      "Training loss (for one batch) at step 400: 0.5267\n",
      "Seen so far: 12832 samples\n",
      "Training loss (for one batch) at step 600: 0.5177\n",
      "Seen so far: 19232 samples\n",
      "Training loss (for one batch) at step 800: 0.6190\n",
      "Seen so far: 25632 samples\n",
      "Training loss (for one batch) at step 1000: 0.7627\n",
      "Seen so far: 32032 samples\n",
      "Training loss (for one batch) at step 1200: 0.8026\n",
      "Seen so far: 38432 samples\n",
      "Training loss (for one batch) at step 1400: 0.7461\n",
      "Seen so far: 44832 samples\n",
      "Training loss (for one batch) at step 1600: 0.6543\n",
      "Seen so far: 51232 samples\n",
      "Training loss (for one batch) at step 1800: 0.7339\n",
      "Seen so far: 57632 samples\n",
      "\n",
      "Start of epoch 3\n",
      "Training loss (for one batch) at step 0: 0.5197\n",
      "Seen so far: 32 samples\n",
      "Training loss (for one batch) at step 200: 0.4902\n",
      "Seen so far: 6432 samples\n",
      "Training loss (for one batch) at step 400: 0.6901\n",
      "Seen so far: 12832 samples\n",
      "Training loss (for one batch) at step 600: 0.6236\n",
      "Seen so far: 19232 samples\n",
      "Training loss (for one batch) at step 800: 0.4404\n",
      "Seen so far: 25632 samples\n",
      "Training loss (for one batch) at step 1000: 0.4785\n",
      "Seen so far: 32032 samples\n",
      "Training loss (for one batch) at step 1200: 0.5340\n",
      "Seen so far: 38432 samples\n",
      "Training loss (for one batch) at step 1400: 0.6065\n",
      "Seen so far: 44832 samples\n",
      "Training loss (for one batch) at step 1600: 0.6808\n",
      "Seen so far: 51232 samples\n",
      "Training loss (for one batch) at step 1800: 0.5356\n",
      "Seen so far: 57632 samples\n",
      "\n",
      "Start of epoch 4\n",
      "Training loss (for one batch) at step 0: 0.5871\n",
      "Seen so far: 32 samples\n",
      "Training loss (for one batch) at step 200: 0.5656\n",
      "Seen so far: 6432 samples\n",
      "Training loss (for one batch) at step 400: 0.7118\n",
      "Seen so far: 12832 samples\n",
      "Training loss (for one batch) at step 600: 0.7800\n",
      "Seen so far: 19232 samples\n",
      "Training loss (for one batch) at step 800: 0.4289\n",
      "Seen so far: 25632 samples\n",
      "Training loss (for one batch) at step 1000: 0.5116\n",
      "Seen so far: 32032 samples\n",
      "Training loss (for one batch) at step 1200: 0.5564\n",
      "Seen so far: 38432 samples\n",
      "Training loss (for one batch) at step 1400: 0.6336\n",
      "Seen so far: 44832 samples\n",
      "Training loss (for one batch) at step 1600: 0.7552\n",
      "Seen so far: 51232 samples\n",
      "Training loss (for one batch) at step 1800: 0.6792\n",
      "Seen so far: 57632 samples\n"
     ]
    }
   ],
   "source": [
    "epochs = 5\n",
    "for epoch in range(epochs):\n",
    "    print(\"\\nStart of epoch %d\" % (epoch,))\n",
    "\n",
    "    # Iterate over the batches of the dataset.\n",
    "    for step, (x_batch_train, y_batch_train) in enumerate(train_dataset):\n",
    "\n",
    "        # Open a GradientTape to record the operations run\n",
    "        # during the forward pass, which enables auto-differentiation.\n",
    "        with tf.GradientTape() as tape:\n",
    "\n",
    "            # Run the forward pass of the layer.\n",
    "            # The operations that the layer applies\n",
    "            # to its inputs are going to be recorded\n",
    "            # on the GradientTape.\n",
    "            logits = model(x_batch_train, training=True)  # Logits for this minibatch\n",
    "\n",
    "            # Compute the loss value for this minibatch.\n",
    "            loss_value = loss_fn(y_batch_train, logits)\n",
    "\n",
    "        # Use the gradient tape to automatically retrieve\n",
    "        # the gradients of the trainable variables with respect to the loss.\n",
    "        grads = tape.gradient(loss_value, model.trainable_weights)\n",
    "\n",
    "        # Run one step of gradient descent by updating\n",
    "        # the value of the variables to minimize the loss.\n",
    "        optimizer.apply_gradients(zip(grads, model.trainable_weights))\n",
    "\n",
    "        # Log every 200 batches.\n",
    "        if step % 200 == 0:\n",
    "            print(\n",
    "                \"Training loss (for one batch) at step %d: %.4f\"\n",
    "                % (step, float(loss_value))\n",
    "            )\n",
    "            print(\"Seen so far: %s samples\" % ((step + 1) * batch_size))"
   ]
  },
  {
   "cell_type": "code",
   "execution_count": 43,
   "metadata": {},
   "outputs": [
    {
     "name": "stdout",
     "output_type": "stream",
     "text": [
      "313/313 [==============================] - 2s 5ms/step - loss: 0.4395 - accuracy: 0.8864\n"
     ]
    },
    {
     "data": {
      "text/plain": [
       "[0.43947479128837585, 0.886400043964386]"
      ]
     },
     "execution_count": 43,
     "metadata": {},
     "output_type": "execute_result"
    }
   ],
   "source": [
    "model.evaluate(x_test, y_test)"
   ]
  },
  {
   "cell_type": "code",
   "execution_count": null,
   "metadata": {},
   "outputs": [],
   "source": []
  }
 ],
 "metadata": {
  "colab": {
   "collapsed_sections": [],
   "include_colab_link": true,
   "name": "Easy NN with Keras.ipynb",
   "provenance": []
  },
  "kernelspec": {
   "display_name": "tf2",
   "language": "python",
   "name": "python3"
  },
  "language_info": {
   "codemirror_mode": {
    "name": "ipython",
    "version": 3
   },
   "file_extension": ".py",
   "mimetype": "text/x-python",
   "name": "python",
   "nbconvert_exporter": "python",
   "pygments_lexer": "ipython3",
   "version": "3.9.15"
  },
  "vscode": {
   "interpreter": {
    "hash": "850bfe13401b9f01c0063d8d9bb81118391b9a46ef53c47b137bc7c8a44c74bd"
   }
  }
 },
 "nbformat": 4,
 "nbformat_minor": 4
}
